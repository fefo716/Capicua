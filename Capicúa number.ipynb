{
 "cells": [
  {
   "cell_type": "code",
   "execution_count": 1,
   "metadata": {},
   "outputs": [],
   "source": [
    "# logic of the capicua number"
   ]
  },
  {
   "cell_type": "code",
   "execution_count": 2,
   "metadata": {},
   "outputs": [],
   "source": [
    "# always starts and ends with the same number"
   ]
  },
  {
   "cell_type": "code",
   "execution_count": 3,
   "metadata": {},
   "outputs": [],
   "source": [
    "## the lenght of the number is odd or even"
   ]
  },
  {
   "cell_type": "code",
   "execution_count": 4,
   "metadata": {},
   "outputs": [],
   "source": [
    "## if the lenght is even: not just start and end with the same number and the couple numbers in the middle are the same"
   ]
  },
  {
   "cell_type": "code",
   "execution_count": 5,
   "metadata": {},
   "outputs": [],
   "source": [
    "### examples: 1221 , 12321 , 695596 , 5585855"
   ]
  },
  {
   "cell_type": "code",
   "execution_count": 6,
   "metadata": {},
   "outputs": [],
   "source": [
    "# so the first and the last must be tha same, and the second and the number before the last must be the same... and so on"
   ]
  },
  {
   "cell_type": "code",
   "execution_count": 7,
   "metadata": {},
   "outputs": [],
   "source": [
    "def capicua(number):\n",
    "    number_str = str(number)\n",
    "    lenght = len(number_str)\n",
    "    \n",
    "    odd = True\n",
    "    if lenght%2 == 0:\n",
    "        odd=False\n",
    "    else:\n",
    "        pass"
   ]
  },
  {
   "cell_type": "code",
   "execution_count": 8,
   "metadata": {},
   "outputs": [],
   "source": [
    "capicua(1211)"
   ]
  },
  {
   "cell_type": "code",
   "execution_count": 9,
   "metadata": {},
   "outputs": [],
   "source": [
    "a = str(1232)"
   ]
  },
  {
   "cell_type": "code",
   "execution_count": 10,
   "metadata": {},
   "outputs": [
    {
     "data": {
      "text/plain": [
       "'2'"
      ]
     },
     "execution_count": 10,
     "metadata": {},
     "output_type": "execute_result"
    }
   ],
   "source": [
    "a[1]"
   ]
  },
  {
   "cell_type": "code",
   "execution_count": 11,
   "metadata": {},
   "outputs": [
    {
     "data": {
      "text/plain": [
       "False"
      ]
     },
     "execution_count": 11,
     "metadata": {},
     "output_type": "execute_result"
    }
   ],
   "source": [
    "a[1] == 2"
   ]
  },
  {
   "cell_type": "code",
   "execution_count": 12,
   "metadata": {},
   "outputs": [
    {
     "data": {
      "text/plain": [
       "True"
      ]
     },
     "execution_count": 12,
     "metadata": {},
     "output_type": "execute_result"
    }
   ],
   "source": [
    "a[1] == a[3]"
   ]
  },
  {
   "cell_type": "code",
   "execution_count": 13,
   "metadata": {},
   "outputs": [],
   "source": [
    "## the biggest number is the lenght, the fisrt is always one\n",
    "### to move in the string: i= 1 for the left, len -1 -i for the right"
   ]
  },
  {
   "cell_type": "code",
   "execution_count": 14,
   "metadata": {},
   "outputs": [],
   "source": [
    "def capicua(number):\n",
    "    number_str = str(number)\n",
    "    length = len(number_str)\n",
    "    i=0\n",
    "    print(length)\n",
    "    \n",
    "    odd = True\n",
    "    if length%2 == 0:\n",
    "        odd=False\n",
    "        print(odd)\n",
    "        if number_str[i] == number_str[length-1-i] and length -1-i > length/2:\n",
    "            print(i)\n",
    "            i+=1\n",
    "        else:\n",
    "            print(\"odd: false, no capicua number\")  \n",
    "    \n",
    "    else:\n",
    "        print(odd)\n",
    "        if number_str[i] == number_str[length-1-i] and lenght - 1 - i > math.ceil(lenght/2):\n",
    "            print(i)\n",
    "            i+=1\n",
    "        else:\n",
    "            print(\"odd:true, no capicua number\")\n",
    "    \n",
    "    \n",
    "    \n",
    "    \n",
    "    '''if number_str[i] == number_str[lenght-1-i]:\n",
    "        i+=1\n",
    "    else:\n",
    "        print(\"no capicua number\")'''"
   ]
  },
  {
   "cell_type": "code",
   "execution_count": 15,
   "metadata": {},
   "outputs": [
    {
     "name": "stdout",
     "output_type": "stream",
     "text": [
      "6\n",
      "False\n",
      "0\n"
     ]
    }
   ],
   "source": [
    "capicua(123321)"
   ]
  },
  {
   "cell_type": "code",
   "execution_count": 16,
   "metadata": {},
   "outputs": [],
   "source": [
    "a = 5"
   ]
  },
  {
   "cell_type": "code",
   "execution_count": 17,
   "metadata": {},
   "outputs": [],
   "source": [
    "import math"
   ]
  },
  {
   "cell_type": "code",
   "execution_count": 18,
   "metadata": {},
   "outputs": [
    {
     "data": {
      "text/plain": [
       "2"
      ]
     },
     "execution_count": 18,
     "metadata": {},
     "output_type": "execute_result"
    }
   ],
   "source": [
    "math.floor(5/2)"
   ]
  },
  {
   "cell_type": "code",
   "execution_count": 19,
   "metadata": {},
   "outputs": [
    {
     "data": {
      "text/plain": [
       "2"
      ]
     },
     "execution_count": 19,
     "metadata": {},
     "output_type": "execute_result"
    }
   ],
   "source": [
    "round(5/2)"
   ]
  },
  {
   "cell_type": "code",
   "execution_count": 20,
   "metadata": {},
   "outputs": [
    {
     "data": {
      "text/plain": [
       "3"
      ]
     },
     "execution_count": 20,
     "metadata": {},
     "output_type": "execute_result"
    }
   ],
   "source": [
    "math.ceil(5/2)"
   ]
  },
  {
   "cell_type": "code",
   "execution_count": 24,
   "metadata": {},
   "outputs": [],
   "source": [
    "def capicua(number):\n",
    "    number_str = str(number)\n",
    "    length = len(number_str)\n",
    "    i=0\n",
    "    print(length)\n",
    "    \n",
    "    capicua = True \n",
    "    while capicua:\n",
    "            \n",
    "        odd = True\n",
    "        if length%2 == 0:\n",
    "            odd=False\n",
    "            print(odd)\n",
    "            if i == math.ceil(length/2):\n",
    "                print('CAPICUAAA !!!')\n",
    "                capicua = False\n",
    "                break\n",
    "            elif number_str[i] == number_str[length-1-i] and length -1-i > length/2:\n",
    "                i+=1\n",
    "                print(i)\n",
    "                \n",
    "            else:\n",
    "                capicua= False\n",
    "                print(\"odd: false, no capicua number\")  \n",
    "\n",
    "        else:\n",
    "            print(odd)\n",
    "            if number_str[i] == number_str[length-1-i] and length - 1 - i > math.ceil(length/2):\n",
    "                i+=1\n",
    "                print(i)\n",
    "                \n",
    "            else:\n",
    "                print(\"odd:true, no capicua number\")\n",
    "                break"
   ]
  },
  {
   "cell_type": "code",
   "execution_count": 27,
   "metadata": {},
   "outputs": [
    {
     "name": "stdout",
     "output_type": "stream",
     "text": [
      "6\n",
      "False\n",
      "1\n",
      "False\n",
      "2\n",
      "False\n",
      "odd: false, no capicua number\n"
     ]
    }
   ],
   "source": [
    "capicua(124421)"
   ]
  },
  {
   "cell_type": "code",
   "execution_count": 28,
   "metadata": {},
   "outputs": [
    {
     "name": "stdout",
     "output_type": "stream",
     "text": [
      "5\n",
      "True\n",
      "1\n",
      "True\n",
      "odd:true, no capicua number\n"
     ]
    }
   ],
   "source": [
    "capicua(12521)"
   ]
  },
  {
   "cell_type": "code",
   "execution_count": 34,
   "metadata": {},
   "outputs": [],
   "source": [
    "def capicua(number):\n",
    "    number_str = str(number)\n",
    "    length = len(number_str)\n",
    "    i=0\n",
    "    print(length)\n",
    "    \n",
    "    capicua = True \n",
    "    while capicua:\n",
    "        \n",
    "        if i == math.ceil(length/2):\n",
    "            print(i)\n",
    "            print('YOU FIND ONE CAPICUA !!')\n",
    "            capicua = False\n",
    "            break\n",
    "            \n",
    "        elif length%2 == 0 and number_str[i] == number_str[length-1-i]:\n",
    "            i += 1\n",
    "            print(i)\n",
    "            \n",
    "        elif length%2 != 0 and number_str[i] == number_str[length-1-i]:\n",
    "            i += 1\n",
    "            print(i)\n",
    "        \n",
    "        else:\n",
    "            print('no capicua...')\n",
    "            capicua = False\n",
    "            break\n",
    "        \n",
    "        \n",
    "        \n",
    "        '''odd = True\n",
    "        if length%2 == 0:\n",
    "            odd=False\n",
    "            print(odd)\n",
    "            if i == math.ceil(length/2):\n",
    "                print('CAPICUAAA !!!')\n",
    "                capicua = False\n",
    "                break\n",
    "            elif number_str[i] == number_str[length-1-i] and length -1-i > length/2:\n",
    "                i+=1\n",
    "                print(i)\n",
    "                \n",
    "            else:\n",
    "                capicua= False\n",
    "                print(\"odd: false, no capicua number\")  \n",
    "\n",
    "        else:\n",
    "            print(odd)\n",
    "            if number_str[i] == number_str[length-1-i] and length - 1 - i > math.ceil(length/2):\n",
    "                i+=1\n",
    "                print(i)\n",
    "                \n",
    "            else:\n",
    "                print(\"odd:true, no capicua number\")\n",
    "                break'''"
   ]
  },
  {
   "cell_type": "code",
   "execution_count": 35,
   "metadata": {},
   "outputs": [
    {
     "name": "stdout",
     "output_type": "stream",
     "text": [
      "4\n",
      "1\n",
      "2\n",
      "2\n",
      "YOU FIND ONE CAPICUA !!\n"
     ]
    }
   ],
   "source": [
    "capicua(1221)"
   ]
  },
  {
   "cell_type": "code",
   "execution_count": 36,
   "metadata": {},
   "outputs": [
    {
     "name": "stdout",
     "output_type": "stream",
     "text": [
      "5\n",
      "1\n",
      "2\n",
      "3\n",
      "3\n",
      "YOU FIND ONE CAPICUA !!\n"
     ]
    }
   ],
   "source": [
    "capicua(12521)"
   ]
  },
  {
   "cell_type": "code",
   "execution_count": 37,
   "metadata": {},
   "outputs": [
    {
     "name": "stdout",
     "output_type": "stream",
     "text": [
      "6\n",
      "1\n",
      "2\n",
      "3\n",
      "3\n",
      "YOU FIND ONE CAPICUA !!\n"
     ]
    }
   ],
   "source": [
    "capicua(123321)"
   ]
  },
  {
   "cell_type": "code",
   "execution_count": 38,
   "metadata": {},
   "outputs": [
    {
     "name": "stdout",
     "output_type": "stream",
     "text": [
      "8\n",
      "1\n",
      "2\n",
      "3\n",
      "4\n",
      "4\n",
      "YOU FIND ONE CAPICUA !!\n"
     ]
    }
   ],
   "source": [
    "capicua(12344321)"
   ]
  },
  {
   "cell_type": "code",
   "execution_count": 39,
   "metadata": {},
   "outputs": [
    {
     "name": "stdout",
     "output_type": "stream",
     "text": [
      "7\n",
      "1\n",
      "2\n",
      "3\n",
      "4\n",
      "4\n",
      "YOU FIND ONE CAPICUA !!\n"
     ]
    }
   ],
   "source": [
    "capicua(1223221)"
   ]
  },
  {
   "cell_type": "code",
   "execution_count": 40,
   "metadata": {},
   "outputs": [
    {
     "name": "stdout",
     "output_type": "stream",
     "text": [
      "17\n",
      "1\n",
      "2\n",
      "3\n",
      "4\n",
      "5\n",
      "6\n",
      "7\n",
      "8\n",
      "9\n",
      "9\n",
      "YOU FIND ONE CAPICUA !!\n"
     ]
    }
   ],
   "source": [
    "capicua(12345678987654321)"
   ]
  },
  {
   "cell_type": "code",
   "execution_count": 41,
   "metadata": {},
   "outputs": [
    {
     "name": "stdout",
     "output_type": "stream",
     "text": [
      "17\n",
      "1\n",
      "2\n",
      "3\n",
      "4\n",
      "5\n",
      "6\n",
      "7\n",
      "8\n",
      "9\n",
      "9\n",
      "YOU FIND ONE CAPICUA !!\n"
     ]
    }
   ],
   "source": [
    "capicua(12345678887654321)"
   ]
  },
  {
   "cell_type": "code",
   "execution_count": 42,
   "metadata": {},
   "outputs": [
    {
     "name": "stdout",
     "output_type": "stream",
     "text": [
      "17\n",
      "1\n",
      "2\n",
      "3\n",
      "4\n",
      "5\n",
      "no capicua...\n"
     ]
    }
   ],
   "source": [
    "capicua(12345678987554321)"
   ]
  },
  {
   "cell_type": "code",
   "execution_count": 43,
   "metadata": {},
   "outputs": [],
   "source": [
    "def capicua(number):\n",
    "    number_str = str(number)\n",
    "    length = len(number_str)\n",
    "    i=0\n",
    "    print(length)\n",
    "    \n",
    "    capicua = True \n",
    "    while capicua:\n",
    "        \n",
    "        if i == math.ceil(length/2):\n",
    "            print(i)\n",
    "            print('YOU FIND ONE CAPICUA !!')\n",
    "            capicua = False\n",
    "            break\n",
    "            \n",
    "        elif length%2 == 0 and number_str[i] == number_str[length-1-i]:\n",
    "            i += 1\n",
    "            print(i)\n",
    "            \n",
    "        elif length%2 != 0 and number_str[i] == number_str[length-1-i]:\n",
    "            i += 1\n",
    "            print(i)\n",
    "        \n",
    "        else:\n",
    "            print('no capicua...')\n",
    "            capicua = False\n",
    "            break"
   ]
  },
  {
   "cell_type": "code",
   "execution_count": 45,
   "metadata": {},
   "outputs": [
    {
     "name": "stdout",
     "output_type": "stream",
     "text": [
      "7\n",
      "1\n",
      "2\n",
      "3\n",
      "4\n",
      "4\n",
      "YOU FIND ONE CAPICUA !!\n"
     ]
    }
   ],
   "source": [
    "capicua('abcdcba')"
   ]
  },
  {
   "cell_type": "code",
   "execution_count": 46,
   "metadata": {},
   "outputs": [
    {
     "name": "stdout",
     "output_type": "stream",
     "text": [
      "8\n",
      "1\n",
      "2\n",
      "3\n",
      "4\n",
      "4\n",
      "YOU FIND ONE CAPICUA !!\n"
     ]
    }
   ],
   "source": [
    "capicua('abcddcba')"
   ]
  },
  {
   "cell_type": "code",
   "execution_count": 10,
   "metadata": {},
   "outputs": [
    {
     "ename": "NameError",
     "evalue": "name 'chdir' is not defined",
     "output_type": "error",
     "traceback": [
      "\u001b[1;31m---------------------------------------------------------------------------\u001b[0m",
      "\u001b[1;31mNameError\u001b[0m                                 Traceback (most recent call last)",
      "\u001b[1;32m<ipython-input-10-b4d5cfd35655>\u001b[0m in \u001b[0;36m<module>\u001b[1;34m\u001b[0m\n\u001b[1;32m----> 1\u001b[1;33m \u001b[0mchdir\u001b[0m\u001b[1;33m(\u001b[0m\u001b[1;33m)\u001b[0m\u001b[1;33m\u001b[0m\u001b[1;33m\u001b[0m\u001b[0m\n\u001b[0m",
      "\u001b[1;31mNameError\u001b[0m: name 'chdir' is not defined"
     ]
    }
   ],
   "source": [
    "chdir()"
   ]
  },
  {
   "cell_type": "code",
   "execution_count": null,
   "metadata": {},
   "outputs": [],
   "source": []
  }
 ],
 "metadata": {
  "kernelspec": {
   "display_name": "Python 3",
   "language": "python",
   "name": "python3"
  },
  "language_info": {
   "codemirror_mode": {
    "name": "ipython",
    "version": 3
   },
   "file_extension": ".py",
   "mimetype": "text/x-python",
   "name": "python",
   "nbconvert_exporter": "python",
   "pygments_lexer": "ipython3",
   "version": "3.8.5"
  }
 },
 "nbformat": 4,
 "nbformat_minor": 4
}
