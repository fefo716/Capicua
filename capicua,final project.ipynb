{
 "cells": [
  {
   "cell_type": "code",
   "execution_count": 1,
   "metadata": {},
   "outputs": [],
   "source": [
    "# logic of the capicua number"
   ]
  },
  {
   "cell_type": "code",
   "execution_count": 2,
   "metadata": {},
   "outputs": [],
   "source": [
    "## always starts and ends with the same number"
   ]
  },
  {
   "cell_type": "code",
   "execution_count": 3,
   "metadata": {},
   "outputs": [],
   "source": [
    "## the lenght of the number is odd or even"
   ]
  },
  {
   "cell_type": "code",
   "execution_count": 4,
   "metadata": {},
   "outputs": [],
   "source": [
    "## if the lenght is even: not just start and end with the same number and the couple numbers in the middle are the same"
   ]
  },
  {
   "cell_type": "code",
   "execution_count": 5,
   "metadata": {},
   "outputs": [],
   "source": [
    "### examples: 1221 , 12321 , 695596 , 5585855"
   ]
  },
  {
   "cell_type": "code",
   "execution_count": 6,
   "metadata": {},
   "outputs": [],
   "source": [
    "# so the first and the last must be tha same, and the second and the number before the last must be the same... and so on"
   ]
  },
  {
   "cell_type": "code",
   "execution_count": 7,
   "metadata": {},
   "outputs": [],
   "source": [
    "import math"
   ]
  },
  {
   "cell_type": "code",
   "execution_count": 8,
   "metadata": {},
   "outputs": [],
   "source": [
    "def capicua(number):\n",
    "    number_str = str(number)\n",
    "    length = len(number_str)\n",
    "    i=0\n",
    "    print(length)\n",
    "    \n",
    "    capicua = True \n",
    "    while capicua:\n",
    "        \n",
    "        if i == math.ceil(length/2):\n",
    "            print(i)\n",
    "            print('YOU FIND ONE CAPICUA !!')\n",
    "            capicua = False\n",
    "            break\n",
    "            \n",
    "        elif length%2 == 0 and number_str[i] == number_str[length-1-i]:\n",
    "            i += 1\n",
    "            print(i)\n",
    "            \n",
    "        elif length%2 != 0 and number_str[i] == number_str[length-1-i]:\n",
    "            i += 1\n",
    "            print(i)\n",
    "        \n",
    "        else:\n",
    "            print('no capicua...')\n",
    "            capicua = False\n",
    "            break"
   ]
  },
  {
   "cell_type": "code",
   "execution_count": 9,
   "metadata": {},
   "outputs": [
    {
     "name": "stdout",
     "output_type": "stream",
     "text": [
      "7\n",
      "1\n",
      "2\n",
      "3\n",
      "4\n",
      "4\n",
      "YOU FIND ONE CAPICUA !!\n"
     ]
    }
   ],
   "source": [
    "capicua('abcdcba')"
   ]
  },
  {
   "cell_type": "code",
   "execution_count": 10,
   "metadata": {},
   "outputs": [
    {
     "name": "stdout",
     "output_type": "stream",
     "text": [
      "8\n",
      "1\n",
      "2\n",
      "3\n",
      "4\n",
      "4\n",
      "YOU FIND ONE CAPICUA !!\n"
     ]
    }
   ],
   "source": [
    "capicua('abcddcba')"
   ]
  },
  {
   "cell_type": "code",
   "execution_count": 11,
   "metadata": {},
   "outputs": [
    {
     "name": "stdout",
     "output_type": "stream",
     "text": [
      "11\n",
      "1\n",
      "2\n",
      "3\n",
      "4\n",
      "5\n",
      "6\n",
      "6\n",
      "YOU FIND ONE CAPICUA !!\n"
     ]
    }
   ],
   "source": [
    "capicua('12345654321')"
   ]
  },
  {
   "cell_type": "code",
   "execution_count": 12,
   "metadata": {},
   "outputs": [
    {
     "name": "stdout",
     "output_type": "stream",
     "text": [
      "11\n",
      "1\n",
      "2\n",
      "3\n",
      "4\n",
      "5\n",
      "6\n",
      "6\n",
      "YOU FIND ONE CAPICUA !!\n"
     ]
    }
   ],
   "source": [
    "capicua(12345654321)"
   ]
  },
  {
   "cell_type": "code",
   "execution_count": null,
   "metadata": {},
   "outputs": [],
   "source": []
  }
 ],
 "metadata": {
  "kernelspec": {
   "display_name": "Python 3",
   "language": "python",
   "name": "python3"
  },
  "language_info": {
   "codemirror_mode": {
    "name": "ipython",
    "version": 3
   },
   "file_extension": ".py",
   "mimetype": "text/x-python",
   "name": "python",
   "nbconvert_exporter": "python",
   "pygments_lexer": "ipython3",
   "version": "3.8.5"
  }
 },
 "nbformat": 4,
 "nbformat_minor": 4
}
